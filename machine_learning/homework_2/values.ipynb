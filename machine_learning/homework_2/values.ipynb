{
 "cells": [
  {
   "cell_type": "code",
   "execution_count": 17,
   "id": "8497cb38-ef6b-4e06-96c0-5a8d89f4a2fe",
   "metadata": {},
   "outputs": [
    {
     "name": "stdout",
     "output_type": "stream",
     "text": [
      "PDF em [100, 225]: 3.478190791227295e-48\n"
     ]
    }
   ],
   "source": [
    "from scipy.stats import multivariate_normal\n",
    "\n",
    "# Defina a média e a matriz de covariância\n",
    "mean = [93.33333, 156.66666]\n",
    "covariance = [[4433.33333, 216.66666666], [216.66666666, 33.3333333]]\n",
    "\n",
    "# Crie uma distribuição normal multivariada\n",
    "mv_normal = multivariate_normal(mean=mean, cov=covariance)\n",
    "\n",
    "# Ponto no qual você deseja calcular a PDF\n",
    "point = [100, 225]\n",
    "\n",
    "# Calcule a PDF no ponto\n",
    "pdf_value = mv_normal.pdf(point)\n",
    "print(f'PDF em {point}: {pdf_value}')"
   ]
  },
  {
   "cell_type": "code",
   "execution_count": 18,
   "id": "710e4b89-1930-4fe7-9e86-5c5d15a8558a",
   "metadata": {},
   "outputs": [
    {
     "name": "stdout",
     "output_type": "stream",
     "text": [
      "PDF em [0.38, 0.52]: 0.7830332736638232\n"
     ]
    }
   ],
   "source": [
    "from scipy.stats import multivariate_normal\n",
    "\n",
    "mean = [0.24, 0.54]\n",
    "covariance = [[0.0064, 0.0096], [0.0096, 0.0336]]\n",
    "\n",
    "mv_normal = multivariate_normal(mean=mean, cov=covariance)\n",
    "\n",
    "point = [0.38, 0.52]\n",
    "\n",
    "pdf_value = mv_normal.pdf(point)\n",
    "print(f'PDF em {point}: {pdf_value}')"
   ]
  },
  {
   "cell_type": "code",
   "execution_count": 19,
   "id": "dbf3a9ed-af73-476f-a33f-2a54b942a651",
   "metadata": {},
   "outputs": [
    {
     "name": "stdout",
     "output_type": "stream",
     "text": [
      "PDF em [0.38, 0.52]: 1.9623683959126395\n"
     ]
    }
   ],
   "source": [
    "from scipy.stats import multivariate_normal\n",
    "\n",
    "mean = [0.5925, 0.3275]\n",
    "covariance = [[0.0228917, -0.00975833], [-0.00975833, 0.0314917]]\n",
    "\n",
    "mv_normal = multivariate_normal(mean=mean, cov=covariance)\n",
    "\n",
    "point = [0.38, 0.52]\n",
    "\n",
    "pdf_value = mv_normal.pdf(point)\n",
    "print(f'PDF em {point}: {pdf_value}')"
   ]
  },
  {
   "cell_type": "code",
   "execution_count": 20,
   "id": "4edf7dab-5053-409b-a4a5-e58647862048",
   "metadata": {},
   "outputs": [
    {
     "name": "stdout",
     "output_type": "stream",
     "text": [
      "PDF em [0.42, 0.59]: 0.3238766359959621\n"
     ]
    }
   ],
   "source": [
    "from scipy.stats import multivariate_normal\n",
    "\n",
    "mean = [0.24, 0.54]\n",
    "covariance = [[0.0064, 0.0096], [0.0096, 0.0336]]\n",
    "\n",
    "mv_normal = multivariate_normal(mean=mean, cov=covariance)\n",
    "\n",
    "point = [0.42, 0.59]\n",
    "\n",
    "pdf_value = mv_normal.pdf(point)\n",
    "print(f'PDF em {point}: {pdf_value}')"
   ]
  },
  {
   "cell_type": "code",
   "execution_count": 21,
   "id": "b331f2d7-e0a9-48bd-823c-da2ca252544c",
   "metadata": {},
   "outputs": [
    {
     "name": "stdout",
     "output_type": "stream",
     "text": [
      "PDF em [0.42, 0.59]: 1.7285697940625808\n"
     ]
    }
   ],
   "source": [
    "from scipy.stats import multivariate_normal\n",
    "\n",
    "mean = [0.5925, 0.3275]\n",
    "covariance = [[0.0228917, -0.00975833], [-0.00975833, 0.0314917]]\n",
    "\n",
    "mv_normal = multivariate_normal(mean=mean, cov=covariance)\n",
    "\n",
    "point = [0.42, 0.59]\n",
    "\n",
    "pdf_value = mv_normal.pdf(point)\n",
    "print(f'PDF em {point}: {pdf_value}')"
   ]
  }
 ],
 "metadata": {
  "kernelspec": {
   "display_name": "Python 3 (ipykernel)",
   "language": "python",
   "name": "python3"
  },
  "language_info": {
   "codemirror_mode": {
    "name": "ipython",
    "version": 3
   },
   "file_extension": ".py",
   "mimetype": "text/x-python",
   "name": "python",
   "nbconvert_exporter": "python",
   "pygments_lexer": "ipython3",
   "version": "3.10.12"
  }
 },
 "nbformat": 4,
 "nbformat_minor": 5
}
