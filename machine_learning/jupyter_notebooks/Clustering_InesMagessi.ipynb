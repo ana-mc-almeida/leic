{
 "cells": [
  {
   "cell_type": "code",
   "execution_count": 186,
   "metadata": {},
   "outputs": [],
   "source": [
    "import numpy as np\n",
    "import pandas as pd\n",
    "from scipy.spatial import distance\n",
    "import matplotlib.pyplot as plt\n",
    "from scipy.stats import norm, multivariate_normal"
   ]
  },
  {
   "cell_type": "markdown",
   "metadata": {},
   "source": [
    "### 1. Consider the following training data without labels and the initialization centroids."
   ]
  },
  {
   "cell_type": "markdown",
   "metadata": {},
   "source": [
    "#### a) Apply k-means until convergence"
   ]
  },
  {
   "cell_type": "code",
   "execution_count": 127,
   "metadata": {},
   "outputs": [],
   "source": [
    "df = pd.DataFrame({'y1': [0, 1, 0, 2], 'y2': [0, 0, 2, 2]}, index = ['x1', 'x2', 'x3', 'x4'])\n",
    "\n",
    "c1 = np.array([2, 0])\n",
    "c2 = np.array([2, 1])"
   ]
  },
  {
   "cell_type": "code",
   "execution_count": 128,
   "metadata": {},
   "outputs": [
    {
     "name": "stdout",
     "output_type": "stream",
     "text": [
      "Distances:\n",
      "           1         2\n",
      "x1  2.000000  2.236068\n",
      "x2  1.000000  1.414214\n",
      "x3  2.828427  2.236068\n",
      "x4  2.000000  1.000000\n",
      "------------------------------\n",
      "Clostest centroid:\n",
      "x1    1\n",
      "x2    1\n",
      "x3    2\n",
      "x4    2\n",
      "dtype: int64\n",
      "------------------------------\n",
      "New centroids:\n",
      "[array([0.5, 0. ]), array([1., 2.])]\n",
      "------------------------------\n",
      "Update = True\n",
      "------------------------------\n",
      "Distances:\n",
      "           1         2\n",
      "x1  0.500000  2.236068\n",
      "x2  0.500000  2.000000\n",
      "x3  2.061553  1.000000\n",
      "x4  2.500000  1.000000\n",
      "------------------------------\n",
      "Clostest centroid:\n",
      "x1    1\n",
      "x2    1\n",
      "x3    2\n",
      "x4    2\n",
      "dtype: int64\n",
      "------------------------------\n",
      "New centroids:\n",
      "[array([0.5, 0. ]), array([1., 2.])]\n",
      "------------------------------\n",
      "Update = False\n",
      "------------------------------\n"
     ]
    }
   ],
   "source": [
    "def euclidean_distance(x1, x2):\n",
    "    return distance.euclidean(x1, x2)\n",
    "\n",
    "def kmeans(df, centroids):\n",
    "    \"\"\"\n",
    "    K-Means clustering algorithm\n",
    "    \"\"\"\n",
    "    updated = True\n",
    "\n",
    "    while updated:\n",
    "        \n",
    "        # Calculate distances\n",
    "        distances = pd.DataFrame(index = df.index.values)\n",
    "\n",
    "        for centroid_idx in range(1, len(centroids) + 1):\n",
    "            distances[centroid_idx] = df.apply(euclidean_distance, args=(centroids[centroid_idx - 1],), axis = 1)\n",
    "        \n",
    "        print('Distances:')\n",
    "        print(distances)\n",
    "\n",
    "        print('------------------------------')\n",
    "\n",
    "        # Calculate closest centroid\n",
    "        closest_centroid = distances.idxmin(axis=1)\n",
    "\n",
    "        print('Clostest centroid:')\n",
    "        print(closest_centroid)\n",
    "\n",
    "        print('------------------------------')\n",
    "        \n",
    "        # Recalculate the centroids\n",
    "        new_centroids = []\n",
    "\n",
    "        for centroid_idx in range(1, len(centroids) + 1):\n",
    "            new_centroids.append(df[closest_centroid == centroid_idx].mean().to_numpy())\n",
    "\n",
    "        print('New centroids:')\n",
    "        print(new_centroids)\n",
    "\n",
    "        print('------------------------------')\n",
    "        \n",
    "        # Check if centroids were updated\n",
    "        if all(np.array_equal(arr1, arr2) for arr1, arr2 in zip(new_centroids, centroids)):\n",
    "            updated = False\n",
    "\n",
    "        print('Update =', updated)\n",
    "\n",
    "        print('------------------------------')\n",
    "        \n",
    "        centroids = new_centroids\n",
    "\n",
    "    return centroids\n",
    "\n",
    "updated_centroids = kmeans(df, centroids=[c1, c2])"
   ]
  },
  {
   "cell_type": "markdown",
   "metadata": {},
   "source": [
    "#### b) Plot the data points and draw the clusters"
   ]
  },
  {
   "cell_type": "code",
   "execution_count": 74,
   "metadata": {},
   "outputs": [
    {
     "data": {
      "image/png": "[encoded data removed]",
      "text/plain": [
       "<Figure size 640x480 with 1 Axes>"
      ]
     },
     "metadata": {},
     "output_type": "display_data"
    }
   ],
   "source": [
    "# Assign points to clusters\n",
    "df.loc[['x1', 'x2'], 'Cluster'] = 1\n",
    "df.loc[['x3', 'x4'], 'Cluster'] = 2\n",
    "\n",
    "# Centroids\n",
    "c1 = updated_centroids[0]\n",
    "c2 = updated_centroids[1]\n",
    "\n",
    "# Define cluster colors\n",
    "cluster_colors = {1: 'orange', 2: 'blue'}\n",
    "\n",
    "# Plot the points and the centroids\n",
    "plt.scatter(df['y1'], df['y2'], c = df['Cluster'].map(cluster_colors), s = 70)\n",
    "plt.scatter([c1[0], c2[0]], [c1[1], c2[1]], color = ['orange', 'blue'])\n",
    "\n",
    "# Label all points\n",
    "for label in df.index.values:\n",
    "    plt.text(df['y1'][label] + 0.1, df['y2'][label], label, fontsize = 12, ha='center', va='bottom', color=cluster_colors[df.loc[label, 'Cluster']])\n",
    "\n",
    "# Label the centroids\n",
    "plt.text(c1[0], c1[1] + 0.1, 'centroid 1', color='orange')\n",
    "plt.text(c2[0], c2[1] - 0.1, 'centroid 2', color='blue')\n",
    "\n",
    "# Redefine the x and y axis limits (ranges)\n",
    "plt.xlim(-1, 3)\n",
    "plt.ylim(-1, 3)\n",
    "\n",
    "plt.show()"
   ]
  },
  {
   "cell_type": "markdown",
   "metadata": {},
   "source": [
    "#### c) Compute the silhouette of observation 𝐱1, cluster 𝒄1 and overall solution"
   ]
  },
  {
   "cell_type": "code",
   "execution_count": 109,
   "metadata": {},
   "outputs": [
    {
     "name": "stdout",
     "output_type": "stream",
     "text": [
      "CALCULATING SILHOUETE OF POINT x1\n",
      "Distances to points in the same cluster:\n",
      "x2    1.0\n",
      "Name: Distance, dtype: float64\n",
      "---------------------------\n",
      "a = 1.0\n",
      "---------------------------\n",
      "Distances to points in cluster 2.0:\n",
      "x3    2.000000\n",
      "x4    2.828427\n",
      "Name: Distance, dtype: float64\n",
      "---------------------------\n",
      "b of cluster 2.0 = 2.414213562373095\n",
      "---------------------------\n",
      "b = 2.414213562373095\n",
      "Silhouette of point x1 = 0.5857864376269049\n"
     ]
    },
    {
     "data": {
      "text/plain": [
       "0.5857864376269049"
      ]
     },
     "execution_count": 109,
     "metadata": {},
     "output_type": "execute_result"
    }
   ],
   "source": [
    "def point_silhouette(point_idx, df):\n",
    "    \"\"\"\n",
    "    Silhouette of a point\n",
    "\n",
    "    args: point index\n",
    "    df: dataframe with points coordinates and the corresponding cluster\n",
    "    \"\"\"\n",
    "\n",
    "    print('CALCULATING SILHOUETE OF POINT', point_idx)\n",
    "\n",
    "    # Get clusters\n",
    "    clusters = df['Cluster']\n",
    "\n",
    "    points_df = df.drop(['Cluster'], axis = 1)\n",
    "\n",
    "    # Get point\n",
    "    point = points_df.loc[point_idx].to_numpy()\n",
    "\n",
    "    points_df.drop(point_idx, inplace = True)\n",
    "\n",
    "    # --------------------------- Calculate 'a' --------------------------- #\n",
    "    point_cluster = clusters[point_idx]\n",
    "\n",
    "    points_from_cluster = points_df.loc[clusters == point_cluster]\n",
    "    \n",
    "    points_from_cluster_idx = points_from_cluster.index.values\n",
    "    points_from_cluster = points_from_cluster.to_numpy()\n",
    "\n",
    "    # Calculate pairwise distances using cdist\n",
    "    distances = np.sqrt(np.sum((points_from_cluster - point) ** 2, axis=1))\n",
    "\n",
    "    # Convert the distances array to a Pandas Series\n",
    "    distances_series = pd.Series(distances[0], name='Distance', index = points_from_cluster_idx)\n",
    "\n",
    "    print('Distances to points in the same cluster:')\n",
    "    print(distances_series)\n",
    "    print('---------------------------')\n",
    "\n",
    "    a = distances.mean()\n",
    "    print('a =', a)\n",
    "    print('---------------------------')\n",
    "\n",
    "    # --------------------------- Calculate 'b' --------------------------- #\n",
    "    \n",
    "    # Get all clusters different from the point's cluster\n",
    "    other_clusters = set(clusters.values)\n",
    "    other_clusters.remove(point_cluster)\n",
    "\n",
    "    mean_distances = []\n",
    "\n",
    "    for cluster in list(other_clusters):\n",
    "        # Get points from current cluster\n",
    "        points_from_cluster = points_df.loc[clusters == cluster]\n",
    "\n",
    "    \n",
    "        points_from_cluster_idx = points_from_cluster.index.values\n",
    "        points_from_cluster = points_from_cluster.to_numpy()\n",
    "\n",
    "\n",
    "        # Calculate pairwise distances using cdist\n",
    "        distances = np.sqrt(np.sum((points_from_cluster - point) ** 2, axis=1))\n",
    "\n",
    "        # Convert the distances array to a Pandas Series\n",
    "        distances_series = pd.Series(distances, name='Distance', index = points_from_cluster_idx)\n",
    "\n",
    "        print(f'Distances to points in cluster {cluster}:')\n",
    "        print(distances_series)\n",
    "        print('---------------------------')\n",
    "\n",
    "        # Calculate b for current cluster\n",
    "        b_cluster = distances.mean()\n",
    "        print(f'b of cluster {cluster} =', b_cluster)\n",
    "        print('---------------------------')\n",
    "\n",
    "        mean_distances.append(b_cluster)\n",
    "\n",
    "    # The final b is the minimum value among all clusters\n",
    "    b = min(mean_distances)\n",
    "    print('b =', b)\n",
    "\n",
    "    if a < b:\n",
    "        s = 1 - a/b\n",
    "    else:\n",
    "        s = b/a - 1\n",
    "\n",
    "    print(f'Silhouette of point {point_idx} =', s)\n",
    "\n",
    "    return s\n",
    "\n",
    "point_silhouette('x1', df)"
   ]
  },
  {
   "cell_type": "code",
   "execution_count": 119,
   "metadata": {},
   "outputs": [
    {
     "name": "stdout",
     "output_type": "stream",
     "text": [
      "CALCULATING SILHOUETTE FOR CLUSTER 1\n",
      "\n",
      "CALCULATING SILHOUETE OF POINT x1\n",
      "Distances to points in the same cluster:\n",
      "x2    1.0\n",
      "Name: Distance, dtype: float64\n",
      "---------------------------\n",
      "a = 1.0\n",
      "---------------------------\n",
      "Distances to points in cluster 2.0:\n",
      "x3    2.000000\n",
      "x4    2.828427\n",
      "Name: Distance, dtype: float64\n",
      "---------------------------\n",
      "b of cluster 2.0 = 2.414213562373095\n",
      "---------------------------\n",
      "b = 2.414213562373095\n",
      "Silhouette of point x1 = 0.5857864376269049\n",
      "..................................................\n",
      "CALCULATING SILHOUETE OF POINT x2\n",
      "Distances to points in the same cluster:\n",
      "x1    1.0\n",
      "Name: Distance, dtype: float64\n",
      "---------------------------\n",
      "a = 1.0\n",
      "---------------------------\n",
      "Distances to points in cluster 2.0:\n",
      "x3    2.236068\n",
      "x4    2.236068\n",
      "Name: Distance, dtype: float64\n",
      "---------------------------\n",
      "b of cluster 2.0 = 2.23606797749979\n",
      "---------------------------\n",
      "b = 2.23606797749979\n",
      "Silhouette of point x2 = 0.5527864045000421\n",
      "..................................................\n",
      "Cluster 1 silhouette = 0.5692864210634735\n"
     ]
    },
    {
     "data": {
      "text/plain": [
       "0.5692864210634735"
      ]
     },
     "execution_count": 119,
     "metadata": {},
     "output_type": "execute_result"
    }
   ],
   "source": [
    "def cluster_silhouette(cluster_idx, df):\n",
    "    print(f'CALCULATING SILHOUETTE FOR CLUSTER {cluster_idx}\\n')\n",
    "    \n",
    "    cluster_df = df[df['Cluster'] == cluster_idx]\n",
    "\n",
    "    # Get points in cluster\n",
    "    cluster_points_idx = cluster_df.index.values\n",
    "\n",
    "    silhouettes = []\n",
    "\n",
    "    # Calculate silhouette of each point in cluster\n",
    "    for point_idx in cluster_points_idx:\n",
    "        silhouettes.append(point_silhouette(point_idx, df))\n",
    "        print('..................................................')\n",
    "\n",
    "    cluster_s = sum(silhouettes) / len(silhouettes)\n",
    "\n",
    "    print(f'Cluster {cluster_idx} silhouette =', cluster_s)\n",
    "\n",
    "    return cluster_s\n",
    "\n",
    "cluster_silhouette(1, df)"
   ]
  },
  {
   "cell_type": "code",
   "execution_count": 120,
   "metadata": {},
   "outputs": [
    {
     "name": "stdout",
     "output_type": "stream",
     "text": [
      "CALCULATING SILHOUETTE FOR CLUSTER 1.0\n",
      "\n",
      "CALCULATING SILHOUETE OF POINT x1\n",
      "Distances to points in the same cluster:\n",
      "x2    1.0\n",
      "Name: Distance, dtype: float64\n",
      "---------------------------\n",
      "a = 1.0\n",
      "---------------------------\n",
      "Distances to points in cluster 2.0:\n",
      "x3    2.000000\n",
      "x4    2.828427\n",
      "Name: Distance, dtype: float64\n",
      "---------------------------\n",
      "b of cluster 2.0 = 2.414213562373095\n",
      "---------------------------\n",
      "b = 2.414213562373095\n",
      "Silhouette of point x1 = 0.5857864376269049\n",
      "..................................................\n",
      "CALCULATING SILHOUETE OF POINT x2\n",
      "Distances to points in the same cluster:\n",
      "x1    1.0\n",
      "Name: Distance, dtype: float64\n",
      "---------------------------\n",
      "a = 1.0\n",
      "---------------------------\n",
      "Distances to points in cluster 2.0:\n",
      "x3    2.236068\n",
      "x4    2.236068\n",
      "Name: Distance, dtype: float64\n",
      "---------------------------\n",
      "b of cluster 2.0 = 2.23606797749979\n",
      "---------------------------\n",
      "b = 2.23606797749979\n",
      "Silhouette of point x2 = 0.5527864045000421\n",
      "..................................................\n",
      "Cluster 1.0 silhouette = 0.5692864210634735\n",
      "________________________________________________\n",
      "CALCULATING SILHOUETTE FOR CLUSTER 2.0\n",
      "\n",
      "CALCULATING SILHOUETE OF POINT x3\n",
      "Distances to points in the same cluster:\n",
      "x4    2.0\n",
      "Name: Distance, dtype: float64\n",
      "---------------------------\n",
      "a = 2.0\n",
      "---------------------------\n",
      "Distances to points in cluster 1.0:\n",
      "x1    2.000000\n",
      "x2    2.236068\n",
      "Name: Distance, dtype: float64\n",
      "---------------------------\n",
      "b of cluster 1.0 = 2.118033988749895\n",
      "---------------------------\n",
      "b = 2.118033988749895\n",
      "Silhouette of point x3 = 0.055728090000841224\n",
      "..................................................\n",
      "CALCULATING SILHOUETE OF POINT x4\n",
      "Distances to points in the same cluster:\n",
      "x3    2.0\n",
      "Name: Distance, dtype: float64\n",
      "---------------------------\n",
      "a = 2.0\n",
      "---------------------------\n",
      "Distances to points in cluster 1.0:\n",
      "x1    2.828427\n",
      "x2    2.236068\n",
      "Name: Distance, dtype: float64\n",
      "---------------------------\n",
      "b of cluster 1.0 = 2.53224755112299\n",
      "---------------------------\n",
      "b = 2.53224755112299\n",
      "Silhouette of point x4 = 0.21018780367146606\n",
      "..................................................\n",
      "Cluster 2.0 silhouette = 0.13295794683615364\n",
      "________________________________________________\n",
      "Overall solution silhouette = 0.35112218394981354\n"
     ]
    },
    {
     "data": {
      "text/plain": [
       "0.35112218394981354"
      ]
     },
     "execution_count": 120,
     "metadata": {},
     "output_type": "execute_result"
    }
   ],
   "source": [
    "def silhouette(df):\n",
    "    clusters_silhouette = []\n",
    "\n",
    "    # Calculate silhouette of each cluster\n",
    "    for cluster in set(df['Cluster'].values):\n",
    "        cluster_s = cluster_silhouette(cluster, df)\n",
    "        clusters_silhouette.append(cluster_s)\n",
    "        print('________________________________________________')\n",
    "    \n",
    "    # Return the mean\n",
    "    s = sum(clusters_silhouette) / len(clusters_silhouette)\n",
    "\n",
    "    print('Overall solution silhouette =', s)\n",
    "\n",
    "    return s\n",
    "\n",
    "silhouette(df)"
   ]
  },
  {
   "cell_type": "markdown",
   "metadata": {},
   "source": [
    "### 2. Consider the following data and the initial k centroids be the first k data points."
   ]
  },
  {
   "cell_type": "markdown",
   "metadata": {},
   "source": [
    "#### a) Apply k-means with 𝑘 = 2 and 𝑘 = 3"
   ]
  },
  {
   "cell_type": "code",
   "execution_count": 130,
   "metadata": {},
   "outputs": [
    {
     "data": {
      "text/html": [
       "<div>\n",
       "<style scoped>\n",
       "    .dataframe tbody tr th:only-of-type {\n",
       "        vertical-align: middle;\n",
       "    }\n",
       "\n",
       "    .dataframe tbody tr th {\n",
       "        vertical-align: top;\n",
       "    }\n",
       "\n",
       "    .dataframe thead th {\n",
       "        text-align: right;\n",
       "    }\n",
       "</style>\n",
       "<table border=\"1\" class=\"dataframe\">\n",
       "  <thead>\n",
       "    <tr style=\"text-align: right;\">\n",
       "      <th></th>\n",
       "      <th>y1</th>\n",
       "      <th>y2</th>\n",
       "      <th>y3</th>\n",
       "    </tr>\n",
       "  </thead>\n",
       "  <tbody>\n",
       "    <tr>\n",
       "      <th>x1</th>\n",
       "      <td>1</td>\n",
       "      <td>0</td>\n",
       "      <td>0</td>\n",
       "    </tr>\n",
       "    <tr>\n",
       "      <th>x2</th>\n",
       "      <td>8</td>\n",
       "      <td>8</td>\n",
       "      <td>4</td>\n",
       "    </tr>\n",
       "    <tr>\n",
       "      <th>x3</th>\n",
       "      <td>3</td>\n",
       "      <td>3</td>\n",
       "      <td>0</td>\n",
       "    </tr>\n",
       "    <tr>\n",
       "      <th>x4</th>\n",
       "      <td>0</td>\n",
       "      <td>0</td>\n",
       "      <td>1</td>\n",
       "    </tr>\n",
       "    <tr>\n",
       "      <th>x5</th>\n",
       "      <td>0</td>\n",
       "      <td>1</td>\n",
       "      <td>0</td>\n",
       "    </tr>\n",
       "    <tr>\n",
       "      <th>x6</th>\n",
       "      <td>3</td>\n",
       "      <td>2</td>\n",
       "      <td>1</td>\n",
       "    </tr>\n",
       "  </tbody>\n",
       "</table>\n",
       "</div>"
      ],
      "text/plain": [
       "    y1  y2  y3\n",
       "x1   1   0   0\n",
       "x2   8   8   4\n",
       "x3   3   3   0\n",
       "x4   0   0   1\n",
       "x5   0   1   0\n",
       "x6   3   2   1"
      ]
     },
     "execution_count": 130,
     "metadata": {},
     "output_type": "execute_result"
    }
   ],
   "source": [
    "df = pd.DataFrame({'y1': [1, 8, 3, 0, 0, 3], 'y2': [0, 8, 3, 0, 1, 2], 'y3': [0, 4, 0, 1, 0, 1]}, index = ['x1', 'x2', 'x3', 'x4', 'x5', 'x6'])\n",
    "\n",
    "df"
   ]
  },
  {
   "cell_type": "markdown",
   "metadata": {},
   "source": [
    "K = 2"
   ]
  },
  {
   "cell_type": "code",
   "execution_count": 131,
   "metadata": {},
   "outputs": [],
   "source": [
    "# Initialize the centroids as x1 and x2\n",
    "c1 = df.iloc[0].to_numpy()\n",
    "c2 = df.iloc[1].to_numpy()"
   ]
  },
  {
   "cell_type": "code",
   "execution_count": 132,
   "metadata": {},
   "outputs": [
    {
     "name": "stdout",
     "output_type": "stream",
     "text": [
      "Distances:\n",
      "            1          2\n",
      "x1   0.000000  11.357817\n",
      "x2  11.357817   0.000000\n",
      "x3   3.605551   8.124038\n",
      "x4   1.414214  11.704700\n",
      "x5   1.414214  11.357817\n",
      "x6   3.000000   8.366600\n",
      "------------------------------\n",
      "Clostest centroid:\n",
      "x1    1\n",
      "x2    2\n",
      "x3    1\n",
      "x4    1\n",
      "x5    1\n",
      "x6    1\n",
      "dtype: int64\n",
      "------------------------------\n",
      "New centroids:\n",
      "[array([1.4, 1.2, 0.4]), array([8., 8., 4.])]\n",
      "------------------------------\n",
      "Update = True\n",
      "------------------------------\n",
      "Distances:\n",
      "            1          2\n",
      "x1   1.326650  11.357817\n",
      "x2  10.137061   0.000000\n",
      "x3   2.441311   8.124038\n",
      "x4   1.939072  11.704700\n",
      "x5   1.469694  11.357817\n",
      "x6   1.886796   8.366600\n",
      "------------------------------\n",
      "Clostest centroid:\n",
      "x1    1\n",
      "x2    2\n",
      "x3    1\n",
      "x4    1\n",
      "x5    1\n",
      "x6    1\n",
      "dtype: int64\n",
      "------------------------------\n",
      "New centroids:\n",
      "[array([1.4, 1.2, 0.4]), array([8., 8., 4.])]\n",
      "------------------------------\n",
      "Update = False\n",
      "------------------------------\n"
     ]
    },
    {
     "data": {
      "text/plain": [
       "[array([1.4, 1.2, 0.4]), array([8., 8., 4.])]"
      ]
     },
     "execution_count": 132,
     "metadata": {},
     "output_type": "execute_result"
    }
   ],
   "source": [
    "kmeans(df, [c1, c2])"
   ]
  },
  {
   "cell_type": "markdown",
   "metadata": {},
   "source": [
    "K = 3"
   ]
  },
  {
   "cell_type": "code",
   "execution_count": 133,
   "metadata": {},
   "outputs": [],
   "source": [
    "# Initialize the centroids as x1, x2 and x3\n",
    "c1 = df.iloc[0].to_numpy()\n",
    "c2 = df.iloc[1].to_numpy()\n",
    "c3 = df.iloc[2].to_numpy()"
   ]
  },
  {
   "cell_type": "code",
   "execution_count": 134,
   "metadata": {},
   "outputs": [
    {
     "name": "stdout",
     "output_type": "stream",
     "text": [
      "Distances:\n",
      "            1          2         3\n",
      "x1   0.000000  11.357817  3.605551\n",
      "x2  11.357817   0.000000  8.124038\n",
      "x3   3.605551   8.124038  0.000000\n",
      "x4   1.414214  11.704700  4.358899\n",
      "x5   1.414214  11.357817  3.605551\n",
      "x6   3.000000   8.366600  1.414214\n",
      "------------------------------\n",
      "Clostest centroid:\n",
      "x1    1\n",
      "x2    2\n",
      "x3    3\n",
      "x4    1\n",
      "x5    1\n",
      "x6    3\n",
      "dtype: int64\n",
      "------------------------------\n",
      "New centroids:\n",
      "[array([0.33333333, 0.33333333, 0.33333333]), array([8., 8., 4.]), array([3. , 2.5, 0.5])]\n",
      "------------------------------\n",
      "Update = True\n",
      "------------------------------\n",
      "Distances:\n",
      "            1          2         3\n",
      "x1   0.816497  11.357817  3.240370\n",
      "x2  11.445523   0.000000  8.215838\n",
      "x3   3.785939   8.124038  0.707107\n",
      "x4   0.816497  11.704700  3.937004\n",
      "x5   0.816497  11.357817  3.391165\n",
      "x6   3.214550   8.366600  0.707107\n",
      "------------------------------\n",
      "Clostest centroid:\n",
      "x1    1\n",
      "x2    2\n",
      "x3    3\n",
      "x4    1\n",
      "x5    1\n",
      "x6    3\n",
      "dtype: int64\n",
      "------------------------------\n",
      "New centroids:\n",
      "[array([0.33333333, 0.33333333, 0.33333333]), array([8., 8., 4.]), array([3. , 2.5, 0.5])]\n",
      "------------------------------\n",
      "Update = False\n",
      "------------------------------\n"
     ]
    },
    {
     "data": {
      "text/plain": [
       "[array([0.33333333, 0.33333333, 0.33333333]),\n",
       " array([8., 8., 4.]),\n",
       " array([3. , 2.5, 0.5])]"
      ]
     },
     "execution_count": 134,
     "metadata": {},
     "output_type": "execute_result"
    }
   ],
   "source": [
    "kmeans(df, [c1, c2, c3])"
   ]
  },
  {
   "cell_type": "markdown",
   "metadata": {},
   "source": [
    "### 3. Considering the following data points:\n",
    "\n",
    "{ 𝑥1 = (4), 𝑥2 = (0), 𝑥3 = (1) }\n",
    "\n",
    "and a mixture of two normal distributions with the following initialization of likelihoods:\n",
    "\n",
    "- 𝑃(𝑥 | 𝑘 = 1) = 𝑁(𝑢1 = 1, 𝜎1 = 1)\n",
    "- 𝑃(𝑥 | 𝑘 = 2) = 𝑁(𝑢2 = 0, 𝜎2 = 1)\n",
    "\n",
    "and priors: 𝑝 (𝑘 = 1) = 0.5 and 𝑝 (𝑘 = 2) = 0.5\n",
    "\n",
    "Plot the clusters after one iteration of the EM algorithm."
   ]
  },
  {
   "cell_type": "code",
   "execution_count": 303,
   "metadata": {},
   "outputs": [],
   "source": [
    "data = np.array([[4], [0], [1]])\n",
    "\n",
    "\n",
    "gaussian_1 = norm(loc = 1, scale = 1)\n",
    "gaussian_2 = norm(loc = 0, scale = 1)\n",
    "\n",
    "gaussians = [gaussian_1, gaussian_2]\n",
    "\n",
    "priors = [0.5, 0.5]"
   ]
  },
  {
   "cell_type": "code",
   "execution_count": 304,
   "metadata": {},
   "outputs": [
    {
     "name": "stdout",
     "output_type": "stream",
     "text": [
      "Likelihood P(x1|cluster_1) = 0.0044318484119380075\n",
      "Posterior = Likelihood x Prior 0.0022159242059690038\n",
      "---\n",
      "Likelihood P(x1|cluster_2) = 0.00013383022576488537\n",
      "Posterior = Likelihood x Prior 6.691511288244268e-05\n",
      "---\n",
      "Normalized posteriors\n",
      "P(cluster_1|x1) ~ 0.9706877692486436\n",
      "P(cluster_2|x1) ~ 0.02931223075135632\n",
      "_________________________\n",
      "Likelihood P(x2|cluster_1) = 0.24197072451914337\n",
      "Posterior = Likelihood x Prior 0.12098536225957168\n",
      "---\n",
      "Likelihood P(x2|cluster_2) = 0.3989422804014327\n",
      "Posterior = Likelihood x Prior 0.19947114020071635\n",
      "---\n",
      "Normalized posteriors\n",
      "P(cluster_1|x2) ~ 0.37754066879814546\n",
      "P(cluster_2|x2) ~ 0.6224593312018546\n",
      "_________________________\n",
      "Likelihood P(x3|cluster_1) = 0.3989422804014327\n",
      "Posterior = Likelihood x Prior 0.19947114020071635\n",
      "---\n",
      "Likelihood P(x3|cluster_2) = 0.24197072451914337\n",
      "Posterior = Likelihood x Prior 0.12098536225957168\n",
      "---\n",
      "Normalized posteriors\n",
      "P(cluster_1|x3) ~ 0.6224593312018546\n",
      "P(cluster_2|x3) ~ 0.37754066879814546\n",
      "_________________________\n"
     ]
    }
   ],
   "source": [
    "clusters_probs = [[], []]\n",
    "\n",
    "# E-step\n",
    "for point_idx, point in enumerate(data):\n",
    "    point_posteriors = []\n",
    "    \n",
    "    for cluster, gaussian in enumerate(gaussians):\n",
    "        # Likelihood for point 'point_idx' and cluster 'cluster'\n",
    "        likelihood = gaussian.pdf(point)[0]\n",
    "        posterior = likelihood * priors[cluster]\n",
    "\n",
    "        point_posteriors.append(posterior)\n",
    "        \n",
    "        print(f'Likelihood P(x{point_idx + 1}|cluster_{cluster + 1}) = {likelihood}')\n",
    "        print('Posterior = Likelihood x Prior', posterior)\n",
    "        print('---')\n",
    "\n",
    "    print('Normalized posteriors')\n",
    "    for cluster_idx, posterior in enumerate(point_posteriors):\n",
    "        normalized_posterior = point_posteriors[cluster_idx] / sum(point_posteriors)\n",
    "        \n",
    "        print(f'P(cluster_{cluster_idx + 1}|x{point_idx + 1}) ~', normalized_posterior)\n",
    "\n",
    "        # For later...\n",
    "        clusters_probs[cluster_idx].append(normalized_posterior)\n",
    "\n",
    "    print('_________________________')"
   ]
  },
  {
   "cell_type": "code",
   "execution_count": 305,
   "metadata": {},
   "outputs": [
    {
     "data": {
      "text/plain": [
       "[[0.9706877692486436, 0.37754066879814546, 0.6224593312018546],\n",
       " [0.02931223075135632, 0.6224593312018546, 0.37754066879814546]]"
      ]
     },
     "execution_count": 305,
     "metadata": {},
     "output_type": "execute_result"
    }
   ],
   "source": [
    "# Normalized posteriors\n",
    "clusters_probs"
   ]
  },
  {
   "cell_type": "code",
   "execution_count": 308,
   "metadata": {},
   "outputs": [
    {
     "name": "stdout",
     "output_type": "stream",
     "text": [
      "Prior_0 = 0.6568959230828813\n",
      "Mean_0 = 2.2861107063723813\n",
      "stdev_0 = 1.723532382089612\n",
      "-------------------------------------------\n",
      "Prior_1 = 0.3431040769171188\n",
      "Mean_1 = 0.48069922519272335\n",
      "stdev_1 = 0.7689976484552898\n",
      "-------------------------------------------\n"
     ]
    }
   ],
   "source": [
    "# M-step\n",
    "for cluster_idx, normalized_posteriors in enumerate(clusters_probs):\n",
    "    normalized_posteriors = np.array(normalized_posteriors)\n",
    "\n",
    "    # Update prior\n",
    "    new_prior = sum(normalized_posteriors) / len(data)\n",
    "\n",
    "    # Update mean\n",
    "    new_mean = sum(normalized_posteriors[:, np.newaxis] * data)[0] / sum(normalized_posteriors)\n",
    "\n",
    "    # Update standard deviation\n",
    "    new_stdv = np.sqrt(sum(normalized_posteriors[:, np.newaxis] * (data - new_mean)**2)[0] / sum(normalized_posteriors))\n",
    "\n",
    "    print(f'Prior_{cluster_idx} =', new_prior)\n",
    "    print(f'Mean_{cluster_idx} =', new_mean)\n",
    "    print(f'stdev_{cluster_idx} =', new_stdv)\n",
    "    print('-------------------------------------------')"
   ]
  },
  {
   "cell_type": "markdown",
   "metadata": {},
   "source": [
    "New gaussians plot:"
   ]
  },
  {
   "cell_type": "code",
   "execution_count": 206,
   "metadata": {},
   "outputs": [
    {
     "data": {
      "text/plain": [
       "<matplotlib.legend.Legend at 0x7f455b9d53a0>"
      ]
     },
     "execution_count": 206,
     "metadata": {},
     "output_type": "execute_result"
    },
    {
     "data": {
      "image/png": "[encoded data removed]",
      "text/plain": [
       "<Figure size 640x480 with 1 Axes>"
      ]
     },
     "metadata": {},
     "output_type": "display_data"
    }
   ],
   "source": [
    "import numpy as np\n",
    "import matplotlib.pyplot as plt\n",
    "\n",
    "# Parameters for the first Gaussian distribution\n",
    "mean1 = 2.29\n",
    "variance1 = 1.72\n",
    "\n",
    "# Parameters for the second Gaussian distribution\n",
    "mean2 = 0.48\n",
    "variance2 = 0.769\n",
    "\n",
    "# Create a range of x values\n",
    "x = np.linspace(-6, 6, 1000)\n",
    "\n",
    "# Calculate the PDFs for the two Gaussian distributions\n",
    "pdf1 = (1 / (np.sqrt(2 * np.pi * variance1))) * np.exp(-(x - mean1)**2 / (2 * variance1))\n",
    "pdf2 = (1 / (np.sqrt(2 * np.pi * variance2))) * np.exp(-(x - mean2)**2 / (2 * variance2))\n",
    "\n",
    "# Plot the two Gaussian distributions\n",
    "plt.plot(x, pdf1, label='Gaussian 1', color='blue')\n",
    "plt.plot(x, pdf2, label='Gaussian 2', color='red')\n",
    "\n",
    "# Plot points\n",
    "plt.scatter(data, [0 for _ in range(len(data))], color = 'black')\n",
    "\n",
    "# Add labels and a legend\n",
    "plt.xlabel('X')\n",
    "plt.ylabel('PDF')\n",
    "plt.legend()\n"
   ]
  },
  {
   "cell_type": "markdown",
   "metadata": {},
   "source": [
    "### 5. Consider the following data points and and a mixture of two multivariate normal distributions with the following likelihoods’ initialization:\n",
    "𝑃(𝐱 | 𝑘 = 1) = 𝑁(𝑢1 = [2, 2] , 𝜎1 = [[1 0],[0 1]])\n",
    "𝑃(𝐱 | 𝑘 = 2) = 𝑁(𝑢2 = [0, 0] , 𝜎2 = [[1 0], [0 1]])\n",
    "\n",
    "and priors: 𝑝 (𝑘 = 1) = 0.6 and 𝑝 (𝑘 = 2) = 0.4"
   ]
  },
  {
   "cell_type": "markdown",
   "metadata": {},
   "source": [
    "#### a) Perform one expectation maximization iteration"
   ]
  },
  {
   "cell_type": "code",
   "execution_count": 280,
   "metadata": {},
   "outputs": [],
   "source": [
    "data = np.array([[2, 2], [0, 2], [0, 0]])\n",
    "\n",
    "gaussian_1 = multivariate_normal(mean = [2, 2], cov = [[1, 0], [0, 1]])\n",
    "gaussian_2 = multivariate_normal(mean = [0, 0], cov = [[1, 0], [0, 1]])\n",
    "\n",
    "gaussians = [gaussian_1, gaussian_2]\n",
    "\n",
    "priors = [0.6, 0.4]"
   ]
  },
  {
   "cell_type": "code",
   "execution_count": 281,
   "metadata": {},
   "outputs": [
    {
     "name": "stdout",
     "output_type": "stream",
     "text": [
      "Likelihood P(x1|cluster_1) = 0.15915494309189535\n",
      "Posterior = Likelihood x Prior 0.09549296585513721\n",
      "---\n",
      "Likelihood P(x1|cluster_2) = 0.002915024465028194\n",
      "Posterior = Likelihood x Prior 0.0011660097860112775\n",
      "---\n",
      "Normalized posteriors\n",
      "P(cluster_1|x1) ~ 0.9879368700291202\n",
      "P(cluster_2|x1) ~ 0.012063129970879785\n",
      "_________________________\n",
      "Likelihood P(x2|cluster_1) = 0.021539279301848634\n",
      "Posterior = Likelihood x Prior 0.01292356758110918\n",
      "---\n",
      "Likelihood P(x2|cluster_2) = 0.021539279301848634\n",
      "Posterior = Likelihood x Prior 0.008615711720739454\n",
      "---\n",
      "Normalized posteriors\n",
      "P(cluster_1|x2) ~ 0.6\n",
      "P(cluster_2|x2) ~ 0.4\n",
      "_________________________\n",
      "Likelihood P(x3|cluster_1) = 0.002915024465028194\n",
      "Posterior = Likelihood x Prior 0.0017490146790169164\n",
      "---\n",
      "Likelihood P(x3|cluster_2) = 0.15915494309189535\n",
      "Posterior = Likelihood x Prior 0.06366197723675814\n",
      "---\n",
      "Normalized posteriors\n",
      "P(cluster_1|x3) ~ 0.026738849661062998\n",
      "P(cluster_2|x3) ~ 0.973261150338937\n",
      "_________________________\n"
     ]
    }
   ],
   "source": [
    "clusters_probs = [[], []]\n",
    "\n",
    "# E-step\n",
    "for point_idx, point in enumerate(data):\n",
    "    point_posteriors = []\n",
    "    \n",
    "    for cluster, gaussian in enumerate(gaussians):\n",
    "        # Likelihood for point 'point_idx' and cluster 'cluster'\n",
    "        likelihood = gaussian.pdf(point)\n",
    "        posterior = likelihood * priors[cluster]\n",
    "\n",
    "        point_posteriors.append(posterior)\n",
    "        \n",
    "        print(f'Likelihood P(x{point_idx + 1}|cluster_{cluster + 1}) = {likelihood}')\n",
    "        print('Posterior = Likelihood x Prior', posterior)\n",
    "        print('---')\n",
    "\n",
    "    print('Normalized posteriors')\n",
    "    for cluster_idx, posterior in enumerate(point_posteriors):\n",
    "        normalized_posterior = point_posteriors[cluster_idx] / sum(point_posteriors)\n",
    "        \n",
    "        print(f'P(cluster_{cluster_idx + 1}|x{point_idx + 1}) ~', normalized_posterior)\n",
    "\n",
    "        # For later...\n",
    "        clusters_probs[cluster_idx].append(normalized_posterior)\n",
    "\n",
    "    print('_________________________')"
   ]
  },
  {
   "cell_type": "code",
   "execution_count": 282,
   "metadata": {},
   "outputs": [
    {
     "data": {
      "text/plain": [
       "[[0.9879368700291202, 0.6, 0.026738849661062998],\n",
       " [0.012063129970879785, 0.4, 0.973261150338937]]"
      ]
     },
     "execution_count": 282,
     "metadata": {},
     "output_type": "execute_result"
    }
   ],
   "source": [
    "clusters_probs"
   ]
  },
  {
   "cell_type": "code",
   "execution_count": 302,
   "metadata": {},
   "outputs": [
    {
     "name": "stdout",
     "output_type": "stream",
     "text": [
      "New prior of cluster 1: 0.5382252398967278\n",
      "New mean of cluster 1: [1.22369694 1.96688022]\n",
      "New cov matrix of cluster 1:\n",
      " [[0.94995968 0.04052857]\n",
      " [0.04052857 0.06514263]]\n",
      "---------------------------------------------------------\n",
      "New prior of cluster 2: 0.4617747601032723\n",
      "New mean of cluster 2: [0.0174156  0.59489772]\n",
      "New cov matrix of cluster 2:\n",
      " [[0.03452791 0.02447071]\n",
      " [0.02447071 0.83589215]]\n",
      "---------------------------------------------------------\n"
     ]
    }
   ],
   "source": [
    "# M-step\n",
    "for cluster_idx, normalized_posteriors in enumerate(clusters_probs):\n",
    "    normalized_posteriors = np.array(normalized_posteriors)\n",
    "\n",
    "    posteriors_sum = np.sum(normalized_posteriors)\n",
    "\n",
    "    # New prior\n",
    "    new_prior = posteriors_sum / len(data)\n",
    "\n",
    "    # New mean\n",
    "    new_mean = np.matmul(normalized_posteriors, data) / posteriors_sum\n",
    "\n",
    "    # New cov matrix\n",
    "    aux = np.multiply((data - new_mean).T, np.array([normalized_posteriors]))\n",
    "    new_cov = np.matmul(aux, data - new_mean) / posteriors_sum\n",
    "\n",
    "    print(f'New prior of cluster {cluster_idx + 1}:', new_prior)\n",
    "    print(f'New mean of cluster {cluster_idx + 1}:', new_mean)\n",
    "    print(f'New cov matrix of cluster {cluster_idx + 1}:\\n', new_cov)\n",
    "    print('---------------------------------------------------------')"
   ]
  },
  {
   "cell_type": "markdown",
   "metadata": {},
   "source": [
    "#### c) Sketch the points and clusters"
   ]
  },
  {
   "cell_type": "code",
   "execution_count": 301,
   "metadata": {},
   "outputs": [
    {
     "data": {
      "image/png": "[encoded data removed]",
      "text/plain": [
       "<Figure size 800x600 with 1 Axes>"
      ]
     },
     "metadata": {},
     "output_type": "display_data"
    }
   ],
   "source": [
    "# Parameters for cluster 1 gaussian\n",
    "mean1 = np.array([1.22369694, 1.96688022])\n",
    "cov1 = np.array([[0.94995968, 0.04052857], [0.04052857, 0.06514263]])\n",
    "\n",
    "# Parameters for cluster 2 gaussian\n",
    "mean2 = np.array([0.0174156, 0.59489772])\n",
    "cov2 = np.array([[0.03452791, 0.02447071], [0.02447071, 0.83589215]])\n",
    "\n",
    "# Create meshgrid of points for visualization\n",
    "x, y = np.meshgrid(np.linspace(-5, 5, 100), np.linspace(-5, 5, 100))\n",
    "pos = np.dstack((x, y))\n",
    "\n",
    "# Create gaussians\n",
    "pdf1 = multivariate_normal.pdf(pos, mean1, cov1)\n",
    "pdf2 = multivariate_normal.pdf(pos, mean2, cov2)\n",
    "\n",
    "# Plot gaussians contours\n",
    "plt.figure(figsize=(8, 6))\n",
    "plt.contour(x, y, pdf1, levels=10, colors = 'orange')\n",
    "plt.contour(x, y, pdf2, levels=10, colors = 'green')\n",
    "\n",
    "# Plot the points\n",
    "plt.scatter(data[:, 0], data[:, 1])\n",
    "\n",
    "plt.xlabel('X-axis')\n",
    "plt.ylabel('Y-axis')\n",
    "plt.show()"
   ]
  }
 ],
 "metadata": {
  "kernelspec": {
   "display_name": "Python 3 (ipykernel)",
   "language": "python",
   "name": "python3"
  },
  "language_info": {
   "codemirror_mode": {
    "name": "ipython",
    "version": 3
   },
   "file_extension": ".py",
   "mimetype": "text/x-python",
   "name": "python",
   "nbconvert_exporter": "python",
   "pygments_lexer": "ipython3",
   "version": "3.10.12"
  }
 },
 "nbformat": 4,
 "nbformat_minor": 4
}
